{
 "cells": [
  {
   "cell_type": "markdown",
   "id": "add0ac40",
   "metadata": {},
   "source": [
    "<header>\n",
    "   <p  style='font-size:36px;font-family:Arial; color:#F0F0F0; background-color: #00233c; padding-left: 20pt; padding-top: 20pt;padding-bottom: 10pt; padding-right: 20pt;'>\n",
    "       ModelOps Quickstart - Import your first BYOM in ModelOps \n",
    "  <br>\n",
    "       <img id=\"teradata-logo\" src=\"https://storage.googleapis.com/clearscape_analytics_demo_data/DEMO_Logo/teradata.svg\" alt=\"Teradata\" style=\"width: 125px; height: auto; margin-top: 20pt;\">\n",
    "    </p>\n",
    "</header>"
   ]
  },
  {
   "cell_type": "markdown",
   "id": "dcc29d47",
   "metadata": {},
   "source": [
    "<p style = 'font-size:20px;font-family:Arial;color:#00233C'><b>Introduction:</b></p>\n",
    "<p style = 'font-size:16px;font-family:Arial;color:#00233C'>This is the notebook associated to quickstart of Bring-your-own-model (BYOM) of ModelOps v7 located at quickstart.teradata.com</p>\n",
    "    \n",
    "    \n",
    "<p style = 'font-size:16px;font-family:Arial;color:#00233C'>  This quickstart helps you to get started quickly using ClearScape Analytics ModelOps. We discuss key concepts briefly, so you can get right down to importing your first models into ModelOps.<br> <br> In this tutorial, you will learn:</p>\n",
    "\n",
    "<ul style = 'font-size:16px;font-family:Arial;color:#00233C'>\n",
    "    <li>What’s the difference between BYOM functions and ModelOps BYOM</li>\n",
    "    <li>Importing your first BYOM model through the graphical user interface</li>\n",
    "    <li>Deploying the model in Vantage with automated scheduling and monitoring capabilities</li>\n",
    "</ul>"
   ]
  },
  {
   "cell_type": "markdown",
   "id": "63f21b7d-c657-473b-8a42-d9b211e6356a",
   "metadata": {
    "tags": []
   },
   "source": [
    "![image](images/byom_meth.png) "
   ]
  },
  {
   "cell_type": "markdown",
   "id": "c406deb2-bcb6-4c59-bcab-8147d82a986d",
   "metadata": {},
   "source": [
    "<p style = 'font-size:18px;font-family:Arial;color:#00233C'><b>Steps in this Guide</b></p>\n",
    "<ol style = 'font-size:16px;font-family:Arial;color:#00233C'>\n",
    "  \n",
    "<li> Create a project (ModelOps)</li>\n",
    "<li> Environment Setup (Notebook)</li>\n",
    "<li> Creating datasets (ModelOps)</li>\n",
    "<li> Train a model and export to PMML (Notebook)</li>\n",
    "<li> Import the PMML into Vantage using BYOM functions (Notebook) </li>\n",
    "<li> Import the PMML into Vantage using ModelOps Graphical user interface (ModelOps) </li>\n",
    "<li> Default and Custom alerting rules for Monitoring (ModelOps) </li>\n",
    "<li> Custom Evaluation metrics and charts (Notebook)</li>\n",
    "    \n",
    "<p style = 'font-size:16px;font-family:Arial;color:#00233C'></p>\n",
    "\n",
    "<p style = 'font-size:16px;font-family:Arial;color:#00233C'>As this is a complementary notebook to the quickstart, we will be covering the specific steps that are required to be done in a Notebook environment. For the ModelOps graphical user interface use the quickstart page as referece</p>"
   ]
  },
  {
   "cell_type": "markdown",
   "id": "5c423848-6e43-4c19-baf3-40d7e8b23e07",
   "metadata": {},
   "source": [
    "<hr style=\"height:2px;border:none;background-color:#00233C;\">\n",
    "<p><b style = 'font-size:20px;font-family:Arial;color:#00233C'>1. Create a project (ModelOps)</b></p>\n",
    "\n",
    "<p style = 'font-size:16px;font-family:Arial;color:#00233C'>Check the quickstart page to follow the steps</p>"
   ]
  },
  {
   "cell_type": "markdown",
   "id": "30a9bb15-7e4a-41e0-9a31-615bf4f0a17b",
   "metadata": {},
   "source": [
    "<p style = 'font-size:16px;font-family:Arial'>If you are using clearscape.teradata.com, you can use this button for direct acccess to ModelOps. Use <b>demo_user</b> and your environment/host password:"
   ]
  },
  {
   "cell_type": "markdown",
   "id": "7ceb652c-e7cf-413a-a0d2-38ded0c36e39",
   "metadata": {},
   "source": [
    "[![image](images/launchModelOps.png)](/modelops)*"
   ]
  },
  {
   "cell_type": "markdown",
   "id": "35af9b9a-55b1-4b93-aab9-da1fe9c74b6d",
   "metadata": {},
   "source": [
    "<hr style=\"height:2px;border:none;background-color:#00233C;\">\n",
    "<p><b style = 'font-size:20px;font-family:Arial;color:#00233C'>2. Environment Setup (Notebook)</b></p>\n",
    "\n",
    "<p><b style = 'font-size:20px;font-family:Arial;color:#00233C'>2.1 Db admin setup alternative </b></p>\n",
    "<p style = 'font-size:16px;font-family:Arial;color:#00233C'>A Bteq script in the data folder is provided \"modelops.bteq\" to execute in a clean Vantage environment these steps by a dbc to speed up this process, although we provide the steps to run this manually in the next step:</p>\n",
    "\n",
    "<ul style = 'font-size:16px;font-family:Arial;color:#00233C'>\n",
    "    <li>Create user modelops</li>\n",
    "    <li>Create database modelops</li>\n",
    "    <li>Create table for byom models - aoa_byom_models</li>\n",
    "    <li>Create table for metadata of statistics - aoa_statistics_metadata</li>\n",
    "    <li>Create table for demo data - evaluation data - pima_patient_diagnoses </li>\n",
    "    <li>Create table for demo data - features data - pima_patient_features</li>\n",
    "    <li>Create table for demo data - output data - pima_patient_predictions </li>\n",
    "    <li>Upload data for these tables</li>\n",
    "    <li>Provide the rights to the login in Vantage for BYOM and VAL</li>\n",
    "    </ul>"
   ]
  },
  {
   "cell_type": "markdown",
   "id": "de9b0a91-e260-4af3-8b51-fc3e615dca27",
   "metadata": {},
   "source": [
    "<hr style=\"height:2px;border:none;background-color:#00233C;\"><p><b style = 'font-size:20px;font-family:Arial;color:#00233C'>2.2 Manual environment setup alternative </b></p>\n",
    "<p style = 'font-size:16px;font-family:Arial;color:#00233C'> In this section, we will Install libraries, Connect to Vantage, create the tables and import the data needed for the tutorial</p>"
   ]
  },
  {
   "cell_type": "markdown",
   "id": "43721e33-5171-4829-9939-ac906cc7235f",
   "metadata": {},
   "source": [
    "<b style = 'font-size:20px;font-family:Arial;color:#00233C'>2.2.1 Libraries Installation and Import </b>"
   ]
  },
  {
   "cell_type": "markdown",
   "id": "cede9661-b95e-4f38-95be-3a08a183fae1",
   "metadata": {},
   "source": [
    "<p style = 'font-size:16px;font-family:Arial;color:#00233C'>Install the required libraries and <b>Restart the kernel</b></p>"
   ]
  },
  {
   "cell_type": "code",
   "execution_count": null,
   "id": "426c443a",
   "metadata": {
    "tags": []
   },
   "outputs": [],
   "source": [
    "%pip install -q teradataml==20.0.0.0 teradatamodelops==7.0.6 pandas==1.5.3"
   ]
  },
  {
   "cell_type": "markdown",
   "id": "49542da8-1b57-4d1e-a2f6-8b9da538dc30",
   "metadata": {},
   "source": [
    "<p style = 'font-size:16px;font-family:Arial;color:#00233C'>Import the libraries</p>"
   ]
  },
  {
   "cell_type": "code",
   "execution_count": null,
   "id": "7cc51191-240f-4fc1-8635-48c297a938d6",
   "metadata": {},
   "outputs": [],
   "source": [
    "#teradatamodelops package contains aoa which is the SDK for ModelOps. We will use here the creation of statistics table\n",
    "from aoa import create_features_stats_table\n",
    "\n",
    "#teradataml is the package to use in Vantage\n",
    "from teradataml import create_context, get_context, copy_to_sql, DataFrame, execute_sql\n",
    "from teradatasqlalchemy.types import *\n",
    "import pandas as pd\n",
    "import getpass\n",
    "import logging\n",
    "import sys"
   ]
  },
  {
   "cell_type": "markdown",
   "id": "d2d1c47a-5ff1-4c1d-8dc5-c30c89ea0d26",
   "metadata": {},
   "source": [
    "<b style = 'font-size:20px;font-family:Arial;color:#00233C'>2.2.2 Connect to Vantage </b>"
   ]
  },
  {
   "cell_type": "markdown",
   "id": "ff27a040-b8c4-4367-9369-6ef8a7e43402",
   "metadata": {},
   "source": [
    "<p style = 'font-size:16px;font-family:Arial;color:#00233C'>Connect to your Vantage environment, you can use clearscape.teradata.com for a free environment</p>"
   ]
  },
  {
   "cell_type": "code",
   "execution_count": null,
   "id": "a0f6b09f-bad6-492e-93c3-12d5acf9fd84",
   "metadata": {},
   "outputs": [],
   "source": [
    "logging.basicConfig(stream=sys.stdout, level=logging.INFO)\n",
    "\n",
    "host = input(\"Host:\")\n",
    "username = input(\"Username:\")\n",
    "password = getpass.getpass(\"Password:\")\n",
    "\n",
    "engine = create_context(host=host, username=username, password=password, logmech=\"TDNEGO\")"
   ]
  },
  {
   "cell_type": "markdown",
   "id": "78c143ec-c318-4c29-98bd-a5c70cbd08b0",
   "metadata": {},
   "source": [
    "<b style = 'font-size:20px;font-family:Arial;color:#00233C'>2.2.3 Create database objects for ModelOps </b>"
   ]
  },
  {
   "cell_type": "markdown",
   "id": "f6fac7d7-ad11-48bd-af49-00a79a61190e",
   "metadata": {},
   "source": [
    "<p style = 'font-size:16px;font-family:Arial;color:#00233C'>Here, we create the following 2 very IMPORTANT tables:</p>\n",
    "\n",
    "<ul style = 'font-size:16px;font-family:Arial;color:#00233C'>\n",
    "<li>BYOM binary tables: aoa_byom_models - contains the binary of the BYOM models as BLOB in database    \n",
    "<li>Statistics metadata table: aoa_feature_metadata - contains the metadata of features</li>\n",
    "    \n",
    "</ul>"
   ]
  },
  {
   "cell_type": "markdown",
   "id": "114c9d38-17f4-4c76-9160-c646fe9fa6e9",
   "metadata": {},
   "source": [
    "<p style = 'font-size:16px;font-family:Arial;color:#00233C'> <b>Statistics metadata table</b> This table is special and <b>required</b> for ModelOps monitoring. This is the table where users will incorporate the histogram bins or edges for statistics computation, then ModelOps Agent will fill this table for every job executed. <b> IMPORTANT: user is required to compute this metadata the first time for each new dataset template </b>. Here we will show you how to create this table, and how to generate the metadata using different alternatives.</p>"
   ]
  },
  {
   "cell_type": "markdown",
   "id": "c8377296-876f-4000-82d7-db538103dc7d",
   "metadata": {},
   "source": [
    "<b style = 'font-size:20px;font-family:Arial;color:#00233C'>2.2.3.1 Create database objects for ModelOps with SQL Alternative</b>"
   ]
  },
  {
   "cell_type": "markdown",
   "id": "8749a1be-e68f-41d1-a0f9-fa2cfa1ab394",
   "metadata": {},
   "source": [
    "<p style = 'font-size:16px;font-family:Arial;color:#00233C'>create byom models table:</p>"
   ]
  },
  {
   "cell_type": "code",
   "execution_count": null,
   "id": "89c626b2-65cf-4c13-a776-6ed1929941a8",
   "metadata": {},
   "outputs": [],
   "source": [
    "query = '''\n",
    "CREATE MULTISET TABLE aoa_byom_models\n",
    "    (\n",
    "        model_version VARCHAR(255),\n",
    "        model_id VARCHAR(255),\n",
    "        model_type VARCHAR(255),\n",
    "        project_id VARCHAR(255),\n",
    "        deployed_at TIMESTAMP DEFAULT CURRENT_TIMESTAMP,\n",
    "        model BLOB(2097088000)\n",
    "    )\n",
    "    UNIQUE PRIMARY INDEX ( model_version );\n",
    "'''\n",
    "\n",
    "try:\n",
    "    execute_sql(query)\n",
    "except:\n",
    "    execute_sql('DROP TABLE aoa_byom_models;')\n",
    "    execute_sql(query)"
   ]
  },
  {
   "cell_type": "markdown",
   "id": "1a9bb7cf-7567-4572-bee5-4fca1848f348",
   "metadata": {},
   "source": [
    "<p style = 'font-size:16px;font-family:Arial;color:#00233C'>create statistics metadata table:</p>"
   ]
  },
  {
   "cell_type": "code",
   "execution_count": null,
   "id": "1e4ff075-3546-4dd6-b72d-80ec95d3b7ac",
   "metadata": {},
   "outputs": [],
   "source": [
    "query = '''\n",
    "CREATE TABLE aoa_statistics_metadata (\n",
    "      column_name VARCHAR(128), \n",
    "      column_type VARCHAR(128),\n",
    "      stats JSON, \n",
    "      update_ts TIMESTAMP)\n",
    "  UNIQUE PRIMARY INDEX ( column_name );\n",
    "'''\n",
    "\n",
    "try:\n",
    "    execute_sql(query)\n",
    "except:\n",
    "    execute_sql('DROP TABLE aoa_statistics_metadata;')\n",
    "    execute_sql(query)"
   ]
  },
  {
   "cell_type": "markdown",
   "id": "c127e272-6e68-454d-bda2-af5489799cc6",
   "metadata": {},
   "source": [
    "<b style = 'font-size:20px;font-family:Arial;color:#00233C'>2.2.3.2 Create database objects for ModelOps with CLI Alternative</b></p>"
   ]
  },
  {
   "cell_type": "markdown",
   "id": "0170e121-1f28-4a27-b9dc-6bfffecff4fc",
   "metadata": {},
   "source": [
    "<p style = 'font-size:16px;font-family:Arial;color:#00233C'>For this, we need to open a terminal from Notebook like in the following picture:"
   ]
  },
  {
   "cell_type": "markdown",
   "id": "646d636e-dfc4-4385-a864-c2c53e801f15",
   "metadata": {},
   "source": [
    "<img src=\"images/terminal.png\" alt=\"Evaluation\" width=\"500\" height=\"500\"/>"
   ]
  },
  {
   "cell_type": "markdown",
   "id": "f5efc021-b9f9-4474-9567-392c86eab6bb",
   "metadata": {},
   "source": [
    "<p style = 'font-size:16px;font-family:Arial;color:#00233C'>CLI of ModelOps is called tmo. This is installed when you install the teradatamodelops python library. In the beginning of this notebook you installed the required version for this quickstart. Let's confirm the version install by running:</p>\n",
    "    \n",
    "<p style = 'font-size:16px;font-family:Arial;color:#00233C'>run this in the CLI:</p>\n",
    "    \n",
    "    tmo --version"
   ]
  },
  {
   "cell_type": "markdown",
   "id": "b8aacb7c-f3ee-42ec-9250-2d664139937d",
   "metadata": {},
   "source": [
    "<img src=\"images/tmo_version.png\" alt=\"Evaluation\" width=\"500\" height=\"500\"/>"
   ]
  },
  {
   "cell_type": "markdown",
   "id": "008aa24e-b36b-4b71-b8be-cbe23c94fa9b",
   "metadata": {},
   "source": [
    "<p style = 'font-size:16px;font-family:Arial;color:#00233C'>CLI of ModelOps help\n",
    "    \n",
    "<p style = 'font-size:16px;font-family:Arial;color:#00233C'>run this in the CLI:</p>\n",
    "    \n",
    "    tmo --help"
   ]
  },
  {
   "cell_type": "markdown",
   "id": "5902467d-98b3-428a-8493-bc2289cb6324",
   "metadata": {},
   "source": [
    "<img src=\"images/tmo_help.png\" alt=\"Evaluation\" width=\"500\" height=\"500\"/>"
   ]
  },
  {
   "cell_type": "markdown",
   "id": "c89be55c-f52e-4b73-89f8-1b05059ea760",
   "metadata": {},
   "source": [
    "<p style = 'font-size:16px;font-family:Arial;color:#00233C'>Connect ModelOps to this CLI session by copying from ModelOps the session details. Go to your ModelOps environment and click on Your Account -> Session details. </p>"
   ]
  },
  {
   "cell_type": "markdown",
   "id": "4f1f08ba-b7e3-49ed-98f5-7daaa6a4f6f3",
   "metadata": {},
   "source": [
    "<img src=\"images/session.png\" alt=\"Evaluation\" width=\"200\" height=\"200\"/>"
   ]
  },
  {
   "cell_type": "markdown",
   "id": "362ce12e-0e04-4b7f-8861-f5322ea6b248",
   "metadata": {
    "tags": []
   },
   "source": [
    "<img src=\"images/cli_config.png\" alt=\"Evaluation\" width=\"500\" height=\"500\"/>"
   ]
  },
  {
   "cell_type": "markdown",
   "id": "c282b6b1-414f-41a8-917d-4413ac9fc5e1",
   "metadata": {
    "tags": []
   },
   "source": [
    "<p style = 'font-size:16px;font-family:Arial;color:#00233C'>Add a new connection for CLI\n",
    "    \n",
    "<p style = 'font-size:16px;font-family:Arial;color:#00233C'>run this in the CLI:</p>\n",
    "    \n",
    "    tmo connection add"
   ]
  },
  {
   "cell_type": "markdown",
   "id": "2a85be7a-a0d3-4bbd-b3c6-216f614b6c31",
   "metadata": {
    "tags": []
   },
   "source": [
    "<img src=\"images/tmo_connection.png\" alt=\"Evaluation\" width=\"500\" height=\"500\"/>"
   ]
  },
  {
   "cell_type": "markdown",
   "id": "edcfe1fa-2da5-4c0d-a036-876357f6774d",
   "metadata": {},
   "source": [
    "<p style = 'font-size:16px;font-family:Arial;color:#00233C'>Now create the byom models table with this command\n",
    "    \n",
    "<p style = 'font-size:16px;font-family:Arial;color:#00233C'>run this in the CLI:</p>\n",
    "    \n",
    "    tmo connection create-byom-table -n aoa_byom_models -e"
   ]
  },
  {
   "cell_type": "markdown",
   "id": "0cb5dd0c-8b4f-4cef-b391-d6cf878c1a3c",
   "metadata": {
    "tags": []
   },
   "source": [
    "<img src=\"images/aoa_byom_table.png\" alt=\"Evaluation\" width=\"500\" height=\"500\"/>"
   ]
  },
  {
   "cell_type": "markdown",
   "id": "95ae6ab0-601b-48dc-b80e-d3a417346108",
   "metadata": {},
   "source": [
    "<p style = 'font-size:16px;font-family:Arial;color:#00233C'>Now create the statistics metadata table with this command\n",
    "    \n",
    "<p style = 'font-size:16px;font-family:Arial;color:#00233C'>run this in the CLI:</p>\n",
    "    \n",
    "    tmo feature create-stats-table -m aoa_statistics_metadata -e"
   ]
  },
  {
   "cell_type": "markdown",
   "id": "866c1762-6c4b-402e-b9ea-b76cb1fbe91e",
   "metadata": {
    "tags": []
   },
   "source": [
    "<img src=\"images/tmo_connection2.png\" alt=\"Evaluation\" width=\"500\" height=\"500\"/>"
   ]
  },
  {
   "cell_type": "markdown",
   "id": "fa8bed14-c8b6-4d8f-a67e-a7b570c04293",
   "metadata": {
    "tags": []
   },
   "source": [
    "<p><b style = 'font-size:20px;font-family:Arial;color:#00233C'>2.2.4 Create Data tables for PIMA Diabetes demo model </b>\n",
    "\n",
    "<p style = 'font-size:16px;font-family:Arial;color:#00233C'>Here, we create 3 data tables, the first two tables will be created while importing the csv Data into Vantage:</p>\n",
    "\n",
    "<li> Table `pima_patient_features` contains the features related to the patients medical history </li>\n",
    "<li> Table `pima_patient_diagnoses` contains the diabetes diagnostic results for the patients.</li>\n",
    "<li> Table `pima_patient_predictions` that will be used for storing the predictions (the output) of the model scoring</li>"
   ]
  },
  {
   "cell_type": "code",
   "execution_count": null,
   "id": "a1716d0b-03c0-4157-b674-eb96c2324458",
   "metadata": {},
   "outputs": [],
   "source": [
    "from teradataml import copy_to_sql, DataFrame\n",
    "from teradatasqlalchemy.types import *\n",
    "import pandas as pd\n",
    "\n",
    "df = pd.read_csv(\"./data/pima_patient_features.csv\")\n",
    "copy_to_sql(df=df, \n",
    "            table_name=\"pima_patient_features\",     \n",
    "            schema_name=username,\n",
    "            primary_index=\"PatientId\", \n",
    "            if_exists=\"replace\",  \n",
    "            types={\n",
    "                \"PatientId\": INTEGER,\n",
    "                \"NumTimesPrg\": INTEGER, \n",
    "                \"PlGlcConc\": INTEGER,\n",
    "                \"BloodP\": INTEGER,\n",
    "                \"SkinThick\": INTEGER,\n",
    "                \"TwoHourSerIns\": INTEGER,\n",
    "                \"BMI\": FLOAT,\n",
    "                \"DiPedFunc\": FLOAT,\n",
    "                \"Age\": INTEGER\n",
    "            })"
   ]
  },
  {
   "cell_type": "code",
   "execution_count": null,
   "id": "7d295adc-e066-4e35-9238-cf81dd7e7dad",
   "metadata": {},
   "outputs": [],
   "source": [
    "df = pd.read_csv(\"data/pima_patient_diagnoses.csv\")\n",
    "copy_to_sql(df=df, \n",
    "            table_name=\"pima_patient_diagnoses\",     \n",
    "            schema_name=username,\n",
    "            primary_index=\"PatientId\", \n",
    "            if_exists=\"replace\",  \n",
    "            types={\n",
    "                \"PatientId\": INTEGER,\n",
    "                \"HasDiabetes\": INTEGER\n",
    "            })"
   ]
  },
  {
   "cell_type": "code",
   "execution_count": null,
   "id": "41be9f89",
   "metadata": {},
   "outputs": [],
   "source": [
    "query = '''CREATE MULTISET TABLE Pima_Patient_Predictions \n",
    "     (\n",
    "      job_id VARCHAR(255) CHARACTER SET LATIN NOT CASESPECIFIC,\n",
    "      PatientId BIGINT,\n",
    "      HasDiabetes BIGINT,\n",
    "      json_report CLOB(1048544000) CHARACTER SET LATIN)\n",
    "PRIMARY INDEX ( job_id );;\n",
    "'''\n",
    " \n",
    "try:\n",
    "    execute_sql(query)\n",
    "except:\n",
    "    execute_sql('DROP TABLE DEMO_USER.Pima_Patient_Predictions;')\n",
    "    execute_sql(query)"
   ]
  },
  {
   "cell_type": "markdown",
   "id": "4cf4944e-449c-433b-875e-f70fce04ae57",
   "metadata": {
    "tags": []
   },
   "source": [
    "<b style = 'font-size:20px;font-family:Arial;color:#00233C'>2.2.4 Compute Statistics for Demo data </b>\n"
   ]
  },
  {
   "cell_type": "markdown",
   "id": "56272afd-c1a2-478f-8059-529656597e00",
   "metadata": {},
   "source": [
    "<p style = 'font-size:16px;font-family:Arial;color:#00233C'> <b>Statistics metadata table</b> This table is special and <b>required</b> for ModelOps monitoring. This is the table where users will incorporate the histogram bins or edges for statistics computation, then ModelOps Agent will fill this table for every job executed. <b> IMPORTANT: user is required to compute this metadata the first time for each new dataset template </b>. Here we will show you how to create this table, and how to generate the metadata using different alternatives.</p>"
   ]
  },
  {
   "cell_type": "markdown",
   "id": "4775a995-e032-4da1-add8-1d2751841803",
   "metadata": {
    "tags": []
   },
   "source": [
    "<b style = 'font-size:20px;font-family:Arial;color:#00233C'>2.2.4.1 Import statistics metadata with SQL Alternative </b>\n"
   ]
  },
  {
   "cell_type": "markdown",
   "id": "3acc4f96-0525-4d0e-9868-988004998d76",
   "metadata": {},
   "source": [
    "<p style = 'font-size:16px;font-family:Arial;color:#00233C'> We provide you with the feature metadata statistics pre-computed for the demo model in a csv file at data folder. Load it with this command. <b>IMPORTANT in a new use case you will need to use the CLI to generate this</b></p>"
   ]
  },
  {
   "cell_type": "code",
   "execution_count": null,
   "id": "8afb2a96-bd9e-4b64-a235-e5b1302bf306",
   "metadata": {},
   "outputs": [],
   "source": [
    "from teradataml import copy_to_sql, DataFrame\n",
    "from teradatasqlalchemy.types import *\n",
    "import pandas as pd\n",
    "\n",
    "# we can compute this from the CLI also - but lets import pre-computed for now.\n",
    "df = pd.read_csv(\"data/aoa_statistics_metadata.csv\")\n",
    "copy_to_sql(df=df, \n",
    "            table_name=\"aoa_statistics_metadata\",     \n",
    "            schema_name=username,\n",
    "            if_exists=\"append\")\n"
   ]
  },
  {
   "cell_type": "markdown",
   "id": "e77a1715-d15d-45c0-a256-7e83c33c45d8",
   "metadata": {
    "tags": []
   },
   "source": [
    "<p><b style = 'font-size:20px;font-family:Arial;color:#00233C'>2.2.4.1 Import statistics metadata with CLI Alternative </b></p>\n"
   ]
  },
  {
   "cell_type": "markdown",
   "id": "3c452ef3-a0b2-4f17-9f02-247aa72c6bfb",
   "metadata": {},
   "source": [
    "<p style = 'font-size:16px;font-family:Arial;color:#00233C'><b>Compute statistics in CLI</b></p>\n",
    "\n",
    "<p style = 'font-size:16px;font-family:Arial;color:#00233C'>You need to execute the CLI command for your <b>Continuous (Numeric)</b> features and another time for your <b>Categorical</b> features</p>\n",
    "\n",
    "<p style = 'font-size:16px;font-family:Arial;color:#00233C'>Check the usage using following command:</p>\n",
    "\n",
    "    \n",
    "        tmo feature compute-stats -h"
   ]
  },
  {
   "cell_type": "markdown",
   "id": "6a036b17-c51a-4975-a7ef-a1598edfcf3d",
   "metadata": {
    "tags": []
   },
   "source": [
    "<img src=\"images/tmo_feature_stats.png\" alt=\"Evaluation\" width=\"500\" height=\"500\"/>"
   ]
  },
  {
   "cell_type": "markdown",
   "id": "2160a44d-8ee4-4112-9efe-ce1a01c9ba07",
   "metadata": {},
   "source": [
    "<p style = 'font-size:16px;font-family:Arial;color:#00233C'><b>Running metadata statistics for Continuous features in the demo model</b></p>\n",
    "\n",
    "\n",
    "\n",
    "<p style = 'font-size:16px;font-family:Arial;color:#00233C'>run the following command <b>NOTE: YOU CAN USE --debug to see all log</b>:</p>\n",
    "\n",
    "    \n",
    "        tmo feature compute-stats --debug \\\n",
    "        -s demo_user.pima_patient_features \\\n",
    "        -m demo_user.aoa_statistics_metadata \\\n",
    "        -t continuous -c numtimesprg,plglcconc,bloodp,skinthick,twohourserins,bmi,dipedfunc,age"
   ]
  },
  {
   "cell_type": "markdown",
   "id": "e8968f4f-0fa9-44c2-87d4-2ff6ac4b2953",
   "metadata": {
    "tags": []
   },
   "source": [
    "<img src=\"images/tmo_stats_continuous.png\" alt=\"Evaluation\" width=\"500\" height=\"500\"/>"
   ]
  },
  {
   "cell_type": "markdown",
   "id": "a74cfc5b-4a3d-4bdc-9c37-9dc7b3c3e9f8",
   "metadata": {},
   "source": [
    "<p style = 'font-size:16px;font-family:Arial;color:#00233C'><b>Running metadata statistics for Categorical features in the demo model</b></p>\n",
    "\n",
    "\n",
    "\n",
    "<p style = 'font-size:16px;font-family:Arial;color:#00233C'>run the following command:</p>\n",
    "\n",
    "    \n",
    "        tmo feature compute-stats --debug \\\n",
    "        -s demo_user.pima_patient_diagnoses \\\n",
    "        -m demo_user.aoa_statistics_metadata \\\n",
    "        -t categorical -c hasdiabetes"
   ]
  },
  {
   "cell_type": "markdown",
   "id": "ae475f19-16cc-4612-b0c4-f5625102537e",
   "metadata": {
    "tags": []
   },
   "source": [
    "<img src=\"images/tmo_stats_categorical.png\" alt=\"Evaluation\" width=\"500\" height=\"500\"/>"
   ]
  },
  {
   "cell_type": "markdown",
   "id": "1087e330-9a54-4fa2-9aad-c189c4984a56",
   "metadata": {},
   "source": [
    "<hr style=\"height:2px;border:none;background-color:#00233C;\">\n",
    "<p><b style = 'font-size:20px;font-family:Arial;color:#00233C'>3. Creating Datasets (ModelOps)</b></p>\n",
    "\n",
    "<p style = 'font-size:16px;font-family:Arial;color:#00233C'>Check the quickstart page to follow the steps</p>"
   ]
  },
  {
   "cell_type": "markdown",
   "id": "66515630-a20c-4342-90bc-e0a7db1f23a6",
   "metadata": {},
   "source": [
    "<p style = 'font-size:16px;font-family:Arial'>If you are using clearscape.teradata.com, you can use this button for direct acccess to ModelOps. Use <b>demo_user</b> and your environment/host password:"
   ]
  },
  {
   "cell_type": "markdown",
   "id": "993e4539-c648-44ae-9c3e-173bea20de6f",
   "metadata": {},
   "source": [
    "[![image](images/launchModelOps.png)](/modelops)*"
   ]
  },
  {
   "cell_type": "markdown",
   "id": "b34d23a5-0a67-4ccd-83c4-1c22367db8b9",
   "metadata": {},
   "source": [
    "<hr style=\"height:2px;border:none;background-color:#00233C;\">\n",
    "<p><b style = 'font-size:20px;font-family:Arial;color:#00233C'>4. Train a model and export to PMML (Notebook)</b></p>"
   ]
  },
  {
   "cell_type": "markdown",
   "id": "1b7d0e46-110d-42d8-b10f-fccf5092752d",
   "metadata": {},
   "source": [
    "<p style = 'font-size:16px;font-family:Arial;color:#00233C'>This section will cover the training of of the PIMA diabetes use case with the open source algorithm XGBoost and converting into PMML standard BYOM format. <b>PMML</b> stands for Predictive Model Markup Language. PMML provides a way for analytic applications to describe and exchange predictive models produced by data mining and machine learning algorithms. </p>"
   ]
  },
  {
   "cell_type": "markdown",
   "id": "0ab118fe-9235-4513-b22b-217649fc5dcd",
   "metadata": {
    "tags": []
   },
   "source": [
    "<p><b style = 'font-size:20px;font-family:Arial;color:#00233C'>4.1 Install and import libraries</b></p>\n"
   ]
  },
  {
   "cell_type": "code",
   "execution_count": null,
   "id": "a05b52cb-b153-4086-8ccf-c392d9d25fe2",
   "metadata": {
    "tags": []
   },
   "outputs": [],
   "source": [
    "%pip install -q xgboost scikit-learn nyoka skl2onnx onnxmltools"
   ]
  },
  {
   "cell_type": "code",
   "execution_count": null,
   "id": "bedce4c9-6f7e-4d18-a1e7-4a3752293198",
   "metadata": {
    "tags": []
   },
   "outputs": [],
   "source": [
    "import os\n",
    "import pandas as pd\n",
    "import getpass\n",
    "\n",
    "from teradataml import (\n",
    "    create_context, \n",
    "    remove_context,\n",
    "    get_connection,\n",
    "    DataFrame,\n",
    "    PMMLPredict,\n",
    "    configure)\n"
   ]
  },
  {
   "cell_type": "markdown",
   "id": "0c4e3b84-7a87-4738-804a-12421271324e",
   "metadata": {
    "tags": []
   },
   "source": [
    "<p><b style = 'font-size:20px;font-family:Arial;color:#00233C'>4.2 Train Model</b></p>"
   ]
  },
  {
   "cell_type": "code",
   "execution_count": null,
   "id": "674fc80d-9220-411e-97e5-54893846b08e",
   "metadata": {},
   "outputs": [],
   "source": [
    "from xgboost import XGBClassifier\n",
    "from sklearn.preprocessing import MinMaxScaler\n",
    "from sklearn.pipeline import Pipeline\n",
    "\n",
    "database = username\n",
    "\n",
    "train_pdf = DataFrame.from_query(f\"\"\"\n",
    "SELECT \n",
    "    F.*, D.hasdiabetes\n",
    "FROM {database}.PIMA_PATIENT_FEATURES F \n",
    "JOIN {database}.PIMA_PATIENT_DIAGNOSES D\n",
    "ON F.patientid = D.patientid\n",
    "    WHERE D.patientid MOD 5 <> 0\n",
    "\"\"\").to_pandas(all_rows=True)\n",
    "\n",
    "features = [\"NumTimesPrg\", \"Age\", \"PlGlcConc\", \"BloodP\", \"SkinThick\", \"TwoHourSerIns\", \"BMI\", \"DiPedFunc\"]\n",
    "target = \"HasDiabetes\"\n",
    "\n",
    "# split data into X and y\n",
    "X_train = train_pdf[features]\n",
    "y_train = train_pdf[target]\n",
    "\n",
    "model = Pipeline([('scaler', MinMaxScaler()),\n",
    "                  ('xgb', XGBClassifier(eta=0.2, max_depth=6))])\n",
    "\n",
    "model.fit(X_train, y_train)\n"
   ]
  },
  {
   "cell_type": "markdown",
   "id": "ec521634-d20d-4fcc-b030-995f154ae985",
   "metadata": {
    "tags": []
   },
   "source": [
    "<p><b style = 'font-size:20px;font-family:Arial;color:#00233C'>4.3 Convert Model to PMML</b></p>"
   ]
  },
  {
   "cell_type": "code",
   "execution_count": null,
   "id": "6977b350-7157-4dcd-823b-da6faca88943",
   "metadata": {},
   "outputs": [],
   "source": [
    "from nyoka import xgboost_to_pmml\n",
    "\n",
    "xgboost_to_pmml(pipeline=model, col_names=features, target_name=target, pmml_f_name=\"model.pmml\")"
   ]
  },
  {
   "cell_type": "markdown",
   "id": "2b80e68d-ca06-416a-80d9-059a20c9554c",
   "metadata": {},
   "source": [
    "<hr style=\"height:2px;border:none;background-color:#00233C;\">\n",
    "<p><b style = 'font-size:20px;font-family:Arial;color:#00233C'>5. Import the PMML into Vantage using BYOM functions (Notebook)</b></p>"
   ]
  },
  {
   "cell_type": "markdown",
   "id": "3bf71452-588d-43df-ad78-d174f40834fd",
   "metadata": {},
   "source": [
    "<p style = 'font-size:16px;font-family:Arial;color:#00233C'>This section will cover the BYOM package to show how users can <b>validate the formats and scoring output</b> from the Notebook. This option will not be registered in the Model Registry of ModelOps, and it won't be available for Governance, Automation or Monitoring ModelOps capabilities. to save BYOM, use save_byom function"
   ]
  },
  {
   "cell_type": "code",
   "execution_count": null,
   "id": "bb45e7cc-4892-43c5-b7c6-f41856b2b851",
   "metadata": {},
   "outputs": [],
   "source": [
    "from teradataml import save_byom,list_byom,retrieve_byom,delete_byom,DataFrame\n",
    "\n",
    "configure.byom_install_location = \"mldb\"\n",
    "try:\n",
    "    save_byom(\"pima_model\",\n",
    "              \"model.pmml\",\n",
    "              \"byom_models\",\n",
    "              additional_columns={},\n",
    "              schema_name=username\n",
    "    )\n",
    "except:\n",
    "    delete_byom(model_id=\"pima_model\", table_name=\"byom_models\")\n",
    "    save_byom(\"pima_model\",\n",
    "              \"model.pmml\",\n",
    "              \"byom_models\",\n",
    "              additional_columns={},\n",
    "              schema_name=username\n",
    "    )\n"
   ]
  },
  {
   "cell_type": "markdown",
   "id": "e2009e80-cebc-46fa-8269-a6ec42122776",
   "metadata": {},
   "source": [
    "<p style = 'font-size:16px;font-family:Arial;color:#00233C'>to list the byom model, use list_byom"
   ]
  },
  {
   "cell_type": "code",
   "execution_count": null,
   "id": "7ec59754-5c68-4f7a-8c61-73f745d79a56",
   "metadata": {},
   "outputs": [],
   "source": [
    "list_byom(table_name=\"byom_models\")"
   ]
  },
  {
   "cell_type": "markdown",
   "id": "1f0195a0-aef8-43a6-aa75-05fd1d6314d2",
   "metadata": {},
   "source": [
    "<p style = 'font-size:16px;font-family:Arial;color:#00233C'>PMMLPredict to run model execution:</p>"
   ]
  },
  {
   "cell_type": "code",
   "execution_count": null,
   "id": "e0d67970-7a22-4344-9173-64ce3c99c7a2",
   "metadata": {},
   "outputs": [],
   "source": [
    "result = PMMLPredict(\n",
    " modeldata = retrieve_byom(\"pima_model\", \"byom_models\"),\n",
    " newdata = DataFrame.from_query(\"SELECT * FROM Pima_Patient_Features WHERE patientid MOD 5 = 0\"),\n",
    " accumulate = ['PatientId'],\n",
    " overwrite_cached_models = '*',\n",
    " )\n",
    "\n",
    "print(result.show_query())\n",
    "\n",
    "result.result"
   ]
  },
  {
   "cell_type": "markdown",
   "id": "341b5467-73b0-42f7-90ce-16829d482112",
   "metadata": {},
   "source": [
    "<hr style=\"height:2px;border:none;background-color:#00233C;\">\n",
    "<p><b style = 'font-size:20px;font-family:Arial;color:#00233C'>6. Import the PMML into Vantage using ModelOps Graphical user interface (ModelOps)</b></p>\n",
    "\n",
    "<p style = 'font-size:16px;font-family:Arial;color:#00233C'>Check the quickstart page to follow the steps</p>"
   ]
  },
  {
   "cell_type": "markdown",
   "id": "c704bace-e058-49f8-8a7e-2a568a8145db",
   "metadata": {},
   "source": [
    "<p style = 'font-size:16px;font-family:Arial'>If you are using clearscape.teradata.com, you can use this button for direct acccess to ModelOps. Use <b>demo_user</b> and your environment/host password:"
   ]
  },
  {
   "cell_type": "markdown",
   "id": "d88a13a8-191b-4f44-a06f-aa961c69bf82",
   "metadata": {},
   "source": [
    "[![image](images/launchModelOps.png)](/modelops)*"
   ]
  },
  {
   "cell_type": "markdown",
   "id": "2c2cda21-0b22-49cb-8a94-4691af644d8f",
   "metadata": {},
   "source": [
    "<hr style=\"height:2px;border:none;background-color:#00233C;\">\n",
    "<p><b style = 'font-size:20px;font-family:Arial;color:#00233C'>7. Go through Automated Lifecycle - Evaluation, Approve, Deploy (ModelOps)</b></p>"
   ]
  },
  {
   "cell_type": "markdown",
   "id": "b2e9aee4-2060-472b-9253-4bab0272e716",
   "metadata": {},
   "source": [
    "<p style = 'font-size:16px;font-family:Arial'>If you are using clearscape.teradata.com, you can use this button for direct acccess to ModelOps. Use <b>demo_user</b> and your environment/host password:"
   ]
  },
  {
   "cell_type": "markdown",
   "id": "bf3888e8-e88b-4ff3-940d-cd04fbbf4dbd",
   "metadata": {},
   "source": [
    "[![image](images/launchModelOps.png)](/modelops)*"
   ]
  },
  {
   "cell_type": "markdown",
   "id": "26ba5365-37aa-49f6-8dcc-da6da502ee1b",
   "metadata": {},
   "source": [
    "<hr style=\"height:2px;border:none;background-color:#00233C;\">\n",
    "<p><b style = 'font-size:20px;font-family:Arial;color:#00233C'>8. Default and Custom alerting rules for Monitoring (ModelOps)</b></p>\n",
    "\n",
    "<p style = 'font-size:16px;font-family:Arial;color:#00233C'>Check the quickstart page to follow the steps</p>"
   ]
  },
  {
   "cell_type": "markdown",
   "id": "371f19cd-25cc-40b1-b71c-91f6a9307e72",
   "metadata": {},
   "source": [
    "<p style = 'font-size:16px;font-family:Arial'>If you are using clearscape.teradata.com, you can use this button for direct acccess to ModelOps. Use <b>demo_user</b> and your environment/host password:"
   ]
  },
  {
   "cell_type": "markdown",
   "id": "3e16a920-dcd9-4f5f-9a34-9ec9bef8aa08",
   "metadata": {},
   "source": [
    "[![image](images/launchModelOps.png)](/modelops)*"
   ]
  },
  {
   "cell_type": "markdown",
   "id": "2f08006d-b23e-4323-a34d-363f87c1c8a1",
   "metadata": {},
   "source": [
    "<hr style=\"height:2px;border:none;background-color:#00233C;\">\n",
    "<p><b style = 'font-size:20px;font-family:Arial;color:#00233C'>9. Custom Evaluation metrics and charts (Notebook)</b></p>"
   ]
  },
  {
   "cell_type": "markdown",
   "id": "8e39895a-65ae-492a-82e5-f797337e48f5",
   "metadata": {},
   "source": [
    "<p style = 'font-size:16px;font-family:Arial;color:#00233C'>You can define custom evaluation logic for BYOM models in ModelOps. This allows you to define your own charts, metrics etc that are to be created and captured as part of evaluation / comparison.</p>\n",
    "\n",
    "<p style = 'font-size:16px;font-family:Arial;color:#00233C'>With this logic you will generate your own evaluation.py and data_stats.json that you can include in your Import wizard in ModelOps graphical user interface</p>"
   ]
  },
  {
   "cell_type": "markdown",
   "id": "2973d36d-e8d6-41af-bcc5-e2603be678bf",
   "metadata": {},
   "source": [
    "<p style = 'font-size:16px;font-family:Arial;color:#00233C'>Logic for compute statistics of Dataset and export into data_stats</p>"
   ]
  },
  {
   "cell_type": "code",
   "execution_count": null,
   "id": "597e3c30-1b60-47e7-bc90-f9b8b066eaab",
   "metadata": {},
   "outputs": [],
   "source": [
    "from aoa.stats.stats import _capture_stats, _NpEncoder\n",
    "import json\n",
    "import logging\n",
    "import sys\n",
    "\n",
    "logging.basicConfig(stream=sys.stdout, level=logging.INFO)\n",
    "\n",
    "configure.val_install_location = \"VAL\"\n",
    "configure.byom_install_location = \"MLDB\"\n",
    "\n",
    "train_df = DataFrame.from_query(\"\"\"\n",
    "SELECT \n",
    "    F.*, D.hasdiabetes \n",
    "FROM Pima_Patient_Features F\n",
    "JOIN pima_patient_diagnoses D\n",
    "    ON F.patientid = D.patientid \n",
    "    WHERE F.patientid MOD 5 <> 0\n",
    "\"\"\")\n",
    "\n",
    "data_stats = _capture_stats(df=train_df,\n",
    "                            features=features,\n",
    "                            targets=[target],\n",
    "                            categorical=[target],\n",
    "                            feature_metadata_fqtn=f\"{username}.aoa_statistics_metadata\")\n",
    "\n",
    "with open(\"data_stats.json\", 'w+') as f:\n",
    "    json.dump(data_stats, f, indent=2, cls=_NpEncoder)"
   ]
  },
  {
   "cell_type": "markdown",
   "id": "666621f9-6138-42e7-9e32-ba9bdbe66269",
   "metadata": {},
   "source": [
    "<p style = 'font-size:16px;font-family:Arial;color:#00233C'>Evaluate standard logic, here you can make changes of metrics and charts</p>"
   ]
  },
  {
   "cell_type": "markdown",
   "id": "b16a3e2d-0f6f-4c23-95f9-e7ea0b39bb66",
   "metadata": {},
   "source": [
    "<p style = 'font-size:16px;font-family:Arial;color:#00233C'>The evaluation function takes the following shape</p>\n",
    "\n",
    "```python\n",
    "def evaluate(context: ModelContext, **kwargs):\n",
    "    aoa_create_context()\n",
    "\n",
    "    # read your model from Vantage\n",
    "    model = DataFrame(f\"model_${context.model_version}\")\n",
    "    \n",
    "    # your evaluation logic\n",
    "    \n",
    "    record_evaluation_stats(...)\n",
    "```\n",
    "<p style = 'font-size:16px;font-family:Arial;color:#00233C'>You can execute this from the CLI or directly within the notebook as shown.</p>"
   ]
  },
  {
   "cell_type": "code",
   "execution_count": null,
   "id": "497872b1-cd61-48ab-a98e-83baa9b23739",
   "metadata": {
    "tags": []
   },
   "outputs": [],
   "source": [
    "%%writefile ./evaluation.py\n",
    "\n",
    "from sklearn import metrics\n",
    "from teradataml import (\n",
    "    get_context,\n",
    "    DataFrame,\n",
    "    PMMLPredict,\n",
    "    configure\n",
    ")\n",
    "from aoa import (\n",
    "    record_evaluation_stats,\n",
    "    aoa_create_context,\n",
    "    store_byom_tmp,\n",
    "    ModelContext\n",
    ")\n",
    "\n",
    "import os\n",
    "import json\n",
    "\n",
    "\n",
    "def plot_confusion_matrix(cf, img_filename):\n",
    "    import itertools\n",
    "    import matplotlib.pyplot as plt\n",
    "    plt.imshow(cf, cmap=plt.cm.Blues, interpolation='nearest')\n",
    "    plt.colorbar()\n",
    "    plt.title('Confusion Matrix')\n",
    "    plt.xlabel('Predicted')\n",
    "    plt.ylabel('Actual')\n",
    "    plt.xticks([0, 1], ['0', '1'])\n",
    "    plt.yticks([0, 1], ['0', '1'])\n",
    "\n",
    "    thresh = cf.max() / 2.\n",
    "    for i, j in itertools.product(range(cf.shape[0]), range(cf.shape[1])):\n",
    "        plt.text(j, i, format(cf[i, j], 'd'), horizontalalignment='center',\n",
    "                 color='white' if cf[i, j] > thresh else 'black')\n",
    "\n",
    "    fig = plt.gcf()\n",
    "    fig.savefig(img_filename, dpi=500)\n",
    "    plt.clf()\n",
    "\n",
    "\n",
    "def evaluate(context: ModelContext, **kwargs):\n",
    "    aoa_create_context()\n",
    "\n",
    "    \n",
    "    # this evaluation.py can hanlde both onnx and pmml. usually, you would only need to support one but for \n",
    "    # demo purposes, we will show with both as we produce both onnx and pmml in this notebook.\n",
    "    \n",
    "    import glob\n",
    "    for file_name in glob.glob(f\"{context.artifact_input_path}/model.*\"):\n",
    "        model_type = file_name.split(\".\")[-1]\n",
    "    \n",
    "    with open(f\"{context.artifact_input_path}/model.{model_type}\", \"rb\") as f:\n",
    "        model_bytes = f.read()\n",
    "        \n",
    "    model = store_byom_tmp(get_context(), \"byom_models_tmp\", context.model_version, model_bytes)\n",
    "\n",
    "    target_name = context.dataset_info.target_names[0]\n",
    "\n",
    "    if model_type.upper() == \"ONNX\":\n",
    "        byom_target_sql = \"CAST(CAST(json_report AS JSON).JSONExtractValue('$.output_label[0]') AS INT)\"\n",
    "        mldb = os.environ.get(\"AOA_BYOM_INSTALL_DB\", \"MLDB\")\n",
    "\n",
    "        query = f\"\"\"\n",
    "            SELECT sc.{context.dataset_info.entity_key}, {target_name}, sc.json_report\n",
    "                FROM {mldb}.ONNXPredict(\n",
    "                    ON ({context.dataset_info.sql}) AS DataTable\n",
    "                    ON (SELECT model_version as model_id, model FROM byom_models_tmp) AS ModelTable DIMENSION\n",
    "                    USING\n",
    "                        Accumulate('{context.dataset_info.entity_key}', '{target_name}')\n",
    "            ) sc;\n",
    "        \"\"\"\n",
    "\n",
    "        predictions_df = DataFrame.from_query(query)\n",
    "        \n",
    "    elif model_type.upper() == \"PMML\":\n",
    "        byom_target_sql = \"CAST(CAST(json_report AS JSON).JSONExtractValue('$.predicted_HasDiabetes') AS INT)\"\n",
    "        \n",
    "        pmml = PMMLPredict(\n",
    "            modeldata=model,\n",
    "            newdata=DataFrame.from_query(context.dataset_info.sql),\n",
    "            accumulate=[context.dataset_info.entity_key, target_name])\n",
    "        \n",
    "        predictions_df = pmml.result\n",
    "\n",
    "    predictions_df.to_sql(table_name=\"predictions_tmp\", if_exists=\"replace\", temporary=True)\n",
    "\n",
    "    metrics_df = DataFrame.from_query(f\"\"\"\n",
    "    SELECT \n",
    "        HasDiabetes as y_test, \n",
    "        {byom_target_sql} as y_pred\n",
    "        FROM predictions_tmp\n",
    "    \"\"\")\n",
    "    metrics_df = metrics_df.to_pandas()\n",
    "\n",
    "    y_pred = metrics_df[[\"y_pred\"]]\n",
    "    y_test = metrics_df[[\"y_test\"]]\n",
    "\n",
    "    evaluation = {\n",
    "        'Accuracy': '{:.2f}'.format(metrics.accuracy_score(y_test, y_pred)),\n",
    "        'Recall': '{:.2f}'.format(metrics.recall_score(y_test, y_pred)),\n",
    "        'Precision': '{:.2f}'.format(metrics.precision_score(y_test, y_pred)),\n",
    "        'f1-score': '{:.2f}'.format(metrics.f1_score(y_test, y_pred))\n",
    "    }\n",
    "\n",
    "    with open(f\"{context.artifact_output_path}/metrics.json\", \"w+\") as f:\n",
    "        json.dump(evaluation, f)\n",
    "\n",
    "    # create confusion matrix plot\n",
    "    cf = metrics.confusion_matrix(y_test, y_pred)\n",
    "\n",
    "    plot_confusion_matrix(cf, f\"{context.artifact_output_path}/confusion_matrix\")\n",
    "\n",
    "    # calculate stats if training stats exist\n",
    "    if os.path.exists(f\"{context.artifact_input_path}/data_stats.json\"):\n",
    "        record_evaluation_stats(features_df=DataFrame.from_query(context.dataset_info.sql),\n",
    "                                predicted_df=DataFrame(\"predictions_tmp\"),\n",
    "                                context=context)\n"
   ]
  },
  {
   "cell_type": "markdown",
   "id": "aae072f2-5155-4c83-871d-72bf2774ccff",
   "metadata": {},
   "source": [
    "<p style = 'font-size:16px;font-family:Arial;color:#00233C'>ModelOps SDK code to run the evaluation logic at the Notebook level for debugging, <b>this is not storing the metadata in ModelOps</b>, only remains at Notebook level. Later you can download the evaluation.py the logic and include it into the BYOM imported model to run it in ModelOps</p>"
   ]
  },
  {
   "cell_type": "code",
   "execution_count": null,
   "id": "5268516f-5bac-4b01-946d-0b15e53339c1",
   "metadata": {},
   "outputs": [],
   "source": [
    "from aoa import ModelContext, DatasetInfo\n",
    "\n",
    "# Define the ModelContext to test with. The ModelContext is created and managed automatically by ModelOps \n",
    "# when it executes your code via CLI / UI. However, for testing in the notebook, you can define as follows\n",
    "\n",
    "# define the evaluation dataset \n",
    "sql = \"\"\"\n",
    "SELECT \n",
    "    F.*, D.hasdiabetes \n",
    "FROM PIMA_PATIENT_FEATURES F \n",
    "JOIN PIMA_PATIENT_DIAGNOSES D\n",
    "ON F.patientid = D.patientid\n",
    "    WHERE D.patientid MOD 5 = 0\n",
    "\"\"\"\n",
    "\n",
    "feature_metadata =  {\n",
    "    \"database\": database,\n",
    "    \"table\": \"aoa_statistics_metadata\"\n",
    "}\n",
    "\n",
    "entity_key = \"PatientId\"\n",
    "target_names = [\"HasDiabetes\"]\n",
    "feature_names = [\"NumTimesPrg\", \"PlGlcConc\", \"BloodP\", \"SkinThick\", \"TwoHourSerIns\", \"BMI\", \"DiPedFunc\", \"Age\"]\n",
    "\n",
    "dataset_info = DatasetInfo(sql=sql,\n",
    "                           entity_key=entity_key,\n",
    "                           feature_names=feature_names,\n",
    "                           target_names=target_names,\n",
    "                           feature_metadata=feature_metadata)\n",
    "\n",
    "ctx = ModelContext(hyperparams={},\n",
    "                   dataset_info=dataset_info,\n",
    "                   artifact_output_path=\"/tmp\",\n",
    "                   artifact_input_path=\"./\",\n",
    "                   model_version=\"v1\",\n",
    "                   model_table=\"aoa_model_v1\")\n",
    "\n",
    "\n",
    "# drop volatile table from session if executing multiple times\n",
    "try:\n",
    "    get_context().execute(f\"DROP TABLE byom_models_tmp\")\n",
    "except: \n",
    "    pass\n",
    "\n",
    "import evaluation\n",
    "evaluation.evaluate(context=ctx)\n",
    "\n",
    "# view evaluation results\n",
    "with open(f\"{ctx.artifact_output_path}/metrics.json\") as f:\n",
    "    print(json.load(f))"
   ]
  },
  {
   "cell_type": "code",
   "execution_count": null,
   "id": "6691c0cf-9ce5-41b2-ab6b-ad682c4e2e9b",
   "metadata": {},
   "outputs": [],
   "source": [
    "DataFrame.from_query(\"SELECT PatientId, HasDiabetes, json_report FROM predictions_tmp\")"
   ]
  },
  {
   "cell_type": "markdown",
   "id": "7c490352-ec09-4b55-8b4f-b215014da5c4",
   "metadata": {},
   "source": [
    "<footer style=\"padding-bottom:35px; background:#f9f9f9; border-bottom:3px solid #00233C\">\n",
    "    <div style=\"float:left;margin-top:14px\">ClearScape Analytics™</div>\n",
    "    <div style=\"float:right;\">\n",
    "        <div style=\"float:left; margin-top:14px\">\n",
    "            Copyright © Teradata Corporation - 2024. All Rights Reserved\n",
    "        </div>\n",
    "    </div>\n",
    "</footer>"
   ]
  }
 ],
 "metadata": {
  "kernelspec": {
   "display_name": "Python 3 (ipykernel)",
   "language": "python",
   "name": "python3"
  },
  "language_info": {
   "codemirror_mode": {
    "name": "ipython",
    "version": 3
   },
   "file_extension": ".py",
   "mimetype": "text/x-python",
   "name": "python",
   "nbconvert_exporter": "python",
   "pygments_lexer": "ipython3",
   "version": "3.9.10"
  }
 },
 "nbformat": 4,
 "nbformat_minor": 5
}
